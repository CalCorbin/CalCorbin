{
  "nbformat": 4,
  "nbformat_minor": 0,
  "metadata": {
    "colab": {
      "name": "Lesson_2_Logistic_Regression.ipynb",
      "provenance": [],
      "collapsed_sections": [],
      "include_colab_link": true
    },
    "kernelspec": {
      "name": "python3",
      "display_name": "Python 3"
    },
    "language_info": {
      "name": "python"
    }
  },
  "cells": [
    {
      "cell_type": "markdown",
      "metadata": {
        "id": "view-in-github",
        "colab_type": "text"
      },
      "source": [
        "<a href=\"https://colab.research.google.com/github/CalCorbin/CalCorbin/blob/main/Lesson_2_Logistic_Regression.ipynb\" target=\"_parent\"><img src=\"https://colab.research.google.com/assets/colab-badge.svg\" alt=\"Open In Colab\"/></a>"
      ]
    },
    {
      "cell_type": "code",
      "execution_count": 1,
      "metadata": {
        "id": "DYRj2LSqqumK"
      },
      "outputs": [],
      "source": [
        "import numpy as np\n",
        "import matplotlib.pyplot as plt\n",
        "import pandas as pd\n",
        "from sklearn.linear_model import LinearRegression\n",
        "from sklearn.datasets import make_classification"
      ]
    },
    {
      "cell_type": "code",
      "source": [
        "X, y = make_classification(n_samples=100, n_features=1,n_informative=1, n_redundant=0, n_classes=2, n_clusters_per_class=1, random_state=4)\n",
        "X += 3"
      ],
      "metadata": {
        "id": "uyYSgonnqzxW"
      },
      "execution_count": 2,
      "outputs": []
    },
    {
      "cell_type": "code",
      "source": [
        "plt.scatter(X,y)"
      ],
      "metadata": {
        "id": "IXwEcN94rEkY",
        "outputId": "9d3aa36f-5991-40f7-c43d-e77c9b5c2f7e",
        "colab": {
          "base_uri": "https://localhost:8080/",
          "height": 283
        }
      },
      "execution_count": 3,
      "outputs": [
        {
          "output_type": "execute_result",
          "data": {
            "text/plain": [
              "<matplotlib.collections.PathCollection at 0x7f742f9caf50>"
            ]
          },
          "metadata": {},
          "execution_count": 3
        },
        {
          "output_type": "display_data",
          "data": {
            "text/plain": [
              "<Figure size 432x288 with 1 Axes>"
            ],
            "image/png": "[encoded data removed]"
          },
          "metadata": {
            "needs_background": "light"
          }
        }
      ]
    },
    {
      "cell_type": "code",
      "source": [
        "lr = LinearRegression()\n",
        "lr.fit(X, y)"
      ],
      "metadata": {
        "id": "5GPlKLg7rFxw",
        "outputId": "85f0620e-56a0-4d8d-ade4-8a3ea3ed6171",
        "colab": {
          "base_uri": "https://localhost:8080/"
        }
      },
      "execution_count": 4,
      "outputs": [
        {
          "output_type": "execute_result",
          "data": {
            "text/plain": [
              "LinearRegression()"
            ]
          },
          "metadata": {},
          "execution_count": 4
        }
      ]
    },
    {
      "cell_type": "code",
      "source": [
        "lr.coef_, lr.intercept_"
      ],
      "metadata": {
        "id": "VAEU7GxerPEw",
        "outputId": "54654fc9-5d47-4bce-d5ac-246c0c1f29ef",
        "colab": {
          "base_uri": "https://localhost:8080/"
        }
      },
      "execution_count": 5,
      "outputs": [
        {
          "output_type": "execute_result",
          "data": {
            "text/plain": [
              "(array([0.37608988]), -0.6255240905454651)"
            ]
          },
          "metadata": {},
          "execution_count": 5
        }
      ]
    },
    {
      "cell_type": "code",
      "source": [
        "X_pred = np.linspace(0,5)\n",
        "y_pred = X_pred*lr.coef_[0] + lr.intercept_"
      ],
      "metadata": {
        "id": "7fdE66On_ICg"
      },
      "execution_count": 6,
      "outputs": []
    },
    {
      "cell_type": "code",
      "source": [
        "plt.scatter(X,y)\n",
        "plt.scatter(X_pred, y_pred)"
      ],
      "metadata": {
        "id": "CyzV8grarRj1",
        "outputId": "4ce5b40b-df8a-419d-dc64-e40de453f539",
        "colab": {
          "base_uri": "https://localhost:8080/",
          "height": 283
        }
      },
      "execution_count": 7,
      "outputs": [
        {
          "output_type": "execute_result",
          "data": {
            "text/plain": [
              "<matplotlib.collections.PathCollection at 0x7f742f4d0e50>"
            ]
          },
          "metadata": {},
          "execution_count": 7
        },
        {
          "output_type": "display_data",
          "data": {
            "text/plain": [
              "<Figure size 432x288 with 1 Axes>"
            ],
            "image/png": "[encoded data removed]"
          },
          "metadata": {
            "needs_background": "light"
          }
        }
      ]
    },
    {
      "cell_type": "markdown",
      "source": [
        "### Sigmoid Function"
      ],
      "metadata": {
        "id": "UW4Q9vbWra2Z"
      }
    },
    {
      "cell_type": "markdown",
      "source": [
        "The sigmoid function transforms its input to be between (0, 1)."
      ],
      "metadata": {
        "id": "baWF6fov_WWc"
      }
    },
    {
      "cell_type": "code",
      "source": [
        "def sigmoid(x):\n",
        "    return 1 / (1 + np.e**(-x))"
      ],
      "metadata": {
        "id": "ooeEOvC1rb_m"
      },
      "execution_count": 8,
      "outputs": []
    },
    {
      "cell_type": "code",
      "source": [
        "plt.plot(np.linspace(-20,20,100), sigmoid(np.linspace(-20,20,100)))"
      ],
      "metadata": {
        "id": "LqYoOZtardr9",
        "outputId": "79d3225a-7e4f-48fb-b260-54d23df39e66",
        "colab": {
          "base_uri": "https://localhost:8080/",
          "height": 283
        }
      },
      "execution_count": 9,
      "outputs": [
        {
          "output_type": "execute_result",
          "data": {
            "text/plain": [
              "[<matplotlib.lines.Line2D at 0x7f742f450850>]"
            ]
          },
          "metadata": {},
          "execution_count": 9
        },
        {
          "output_type": "display_data",
          "data": {
            "text/plain": [
              "<Figure size 432x288 with 1 Axes>"
            ],
            "image/png": "[encoded data removed]"
          },
          "metadata": {
            "needs_background": "light"
          }
        }
      ]
    },
    {
      "cell_type": "markdown",
      "source": [
        "A linear regression equation can be passed into the sigmoid function to be able to have coefficients and a constant."
      ],
      "metadata": {
        "id": "xy-GX8FM_etm"
      }
    },
    {
      "cell_type": "markdown",
      "source": [
        "y = mx + b <br>\n",
        "y = sigmoid(mx + b)"
      ],
      "metadata": {
        "id": "l-45FjWO_qYg"
      }
    },
    {
      "cell_type": "code",
      "source": [
        "X_pred = np.linspace(-20,20,100)\n",
        "for m in range(1,5):\n",
        "    for b in range(-5,5,2):\n",
        "        plt.plot(X_pred, sigmoid(X_pred*m+b))\n",
        "        plt.title('m='+str(m))\n",
        "        plt.legend(['-4','-2','0','2','4'],title='b')\n",
        "    plt.show()"
      ],
      "metadata": {
        "id": "HphiXm1rrdz3",
        "outputId": "0164004c-5f89-499e-f6d2-cea0744fa286",
        "colab": {
          "base_uri": "https://localhost:8080/",
          "height": 1000
        }
      },
      "execution_count": 10,
      "outputs": [
        {
          "output_type": "display_data",
          "data": {
            "text/plain": [
              "<Figure size 432x288 with 1 Axes>"
            ],
            "image/png": "[encoded data removed]"
          },
          "metadata": {
            "needs_background": "light"
          }
        },
        {
          "output_type": "display_data",
          "data": {
            "text/plain": [
              "<Figure size 432x288 with 1 Axes>"
            ],
            "image/png": "[encoded data removed]"
          },
          "metadata": {
            "needs_background": "light"
          }
        },
        {
          "output_type": "display_data",
          "data": {
            "text/plain": [
              "<Figure size 432x288 with 1 Axes>"
            ],
            "image/png": "[encoded data removed]"
          },
          "metadata": {
            "needs_background": "light"
          }
        },
        {
          "output_type": "display_data",
          "data": {
            "text/plain": [
              "<Figure size 432x288 with 1 Axes>"
            ],
            "image/png": "[encoded data removed]"
          },
          "metadata": {
            "needs_background": "light"
          }
        }
      ]
    },
    {
      "cell_type": "markdown",
      "source": [
        "### Binary Classification with Logistic Regression"
      ],
      "metadata": {
        "id": "AAHRK9wKy1yI"
      }
    },
    {
      "cell_type": "code",
      "source": [
        "from sklearn.linear_model import LogisticRegression"
      ],
      "metadata": {
        "id": "LosfpnXKrgp3"
      },
      "execution_count": 11,
      "outputs": []
    },
    {
      "cell_type": "code",
      "source": [
        "lr = LogisticRegression()\n",
        "lr.fit(X, y)"
      ],
      "metadata": {
        "id": "KtYZnX97y7SW",
        "outputId": "51df25c7-63b3-44e6-9951-b5c556184ede",
        "colab": {
          "base_uri": "https://localhost:8080/"
        }
      },
      "execution_count": 12,
      "outputs": [
        {
          "output_type": "execute_result",
          "data": {
            "text/plain": [
              "LogisticRegression()"
            ]
          },
          "metadata": {},
          "execution_count": 12
        }
      ]
    },
    {
      "cell_type": "code",
      "source": [
        "lr.coef_, lr.intercept_"
      ],
      "metadata": {
        "id": "V39damcMy-_V",
        "outputId": "c715e3a7-2fe7-41e8-a92b-fb1859cd05db",
        "colab": {
          "base_uri": "https://localhost:8080/"
        }
      },
      "execution_count": 13,
      "outputs": [
        {
          "output_type": "execute_result",
          "data": {
            "text/plain": [
              "(array([[2.90088607]]), array([-8.57205968]))"
            ]
          },
          "metadata": {},
          "execution_count": 13
        }
      ]
    },
    {
      "cell_type": "code",
      "source": [
        "plt.scatter(X,y)"
      ],
      "metadata": {
        "id": "5neE_OdYzPxT",
        "outputId": "6a0eb3e4-f70b-4ee2-8ee4-b8e20be686ab",
        "colab": {
          "base_uri": "https://localhost:8080/",
          "height": 283
        }
      },
      "execution_count": 14,
      "outputs": [
        {
          "output_type": "execute_result",
          "data": {
            "text/plain": [
              "<matplotlib.collections.PathCollection at 0x7f742f13cf10>"
            ]
          },
          "metadata": {},
          "execution_count": 14
        },
        {
          "output_type": "display_data",
          "data": {
            "text/plain": [
              "<Figure size 432x288 with 1 Axes>"
            ],
            "image/png": "[encoded data removed]"
          },
          "metadata": {
            "needs_background": "light"
          }
        }
      ]
    },
    {
      "cell_type": "code",
      "source": [
        "lr.predict(np.array([[2]]))"
      ],
      "metadata": {
        "id": "Z6w65E7czA2H",
        "outputId": "764a82df-9580-4b94-8a48-de98f6c2c531",
        "colab": {
          "base_uri": "https://localhost:8080/"
        }
      },
      "execution_count": 15,
      "outputs": [
        {
          "output_type": "execute_result",
          "data": {
            "text/plain": [
              "array([0])"
            ]
          },
          "metadata": {},
          "execution_count": 15
        }
      ]
    },
    {
      "cell_type": "code",
      "source": [
        "X_pred = np.linspace(1, 5, 20)\n",
        "y_pred = lr.predict(X_pred.reshape(-1,1))"
      ],
      "metadata": {
        "id": "_kKEBupjzJkW"
      },
      "execution_count": 16,
      "outputs": []
    },
    {
      "cell_type": "code",
      "source": [
        "plt.scatter(X_pred, y_pred)"
      ],
      "metadata": {
        "id": "pcX4HvWFzZJl",
        "outputId": "334c2395-0c58-4cdf-c7a6-4d482c345189",
        "colab": {
          "base_uri": "https://localhost:8080/",
          "height": 283
        }
      },
      "execution_count": 17,
      "outputs": [
        {
          "output_type": "execute_result",
          "data": {
            "text/plain": [
              "<matplotlib.collections.PathCollection at 0x7f742f13cdd0>"
            ]
          },
          "metadata": {},
          "execution_count": 17
        },
        {
          "output_type": "display_data",
          "data": {
            "text/plain": [
              "<Figure size 432x288 with 1 Axes>"
            ],
            "image/png": "[encoded data removed]"
          },
          "metadata": {
            "needs_background": "light"
          }
        }
      ]
    },
    {
      "cell_type": "code",
      "source": [
        "y_pred = lr.predict_proba(X_pred.reshape(-1, 1))"
      ],
      "metadata": {
        "id": "hq9cV6WJzqhd"
      },
      "execution_count": 18,
      "outputs": []
    },
    {
      "cell_type": "code",
      "source": [
        "y_pred"
      ],
      "metadata": {
        "id": "PzT6lvqV0F60",
        "outputId": "a25db64b-ca98-4a55-dcde-9415d2046f74",
        "colab": {
          "base_uri": "https://localhost:8080/"
        }
      },
      "execution_count": 19,
      "outputs": [
        {
          "output_type": "execute_result",
          "data": {
            "text/plain": [
              "array([[0.996568  , 0.003432  ],\n",
              "       [0.99369734, 0.00630266],\n",
              "       [0.98845337, 0.01154663],\n",
              "       [0.97893877, 0.02106123],\n",
              "       [0.96188629, 0.03811371],\n",
              "       [0.93198632, 0.06801368],\n",
              "       [0.88151926, 0.11848074],\n",
              "       [0.80157759, 0.19842241],\n",
              "       [0.68685799, 0.31314201],\n",
              "       [0.54357862, 0.45642138],\n",
              "       [0.39270524, 0.60729476],\n",
              "       [0.25986549, 0.74013451],\n",
              "       [0.16011392, 0.83988608],\n",
              "       [0.09380014, 0.90619986],\n",
              "       [0.05321124, 0.94678876],\n",
              "       [0.02961192, 0.97038808],\n",
              "       [0.01629878, 0.98370122],\n",
              "       [0.00891606, 0.99108394],\n",
              "       [0.00486091, 0.99513909],\n",
              "       [0.00264517, 0.99735483]])"
            ]
          },
          "metadata": {},
          "execution_count": 19
        }
      ]
    },
    {
      "cell_type": "code",
      "source": [
        "plt.scatter(X_pred, y_pred[:,1])"
      ],
      "metadata": {
        "id": "rnKvVOdIz0Q2",
        "outputId": "a9e5c13e-569f-4292-cad5-9bbad4ba94fc",
        "colab": {
          "base_uri": "https://localhost:8080/",
          "height": 283
        }
      },
      "execution_count": 20,
      "outputs": [
        {
          "output_type": "execute_result",
          "data": {
            "text/plain": [
              "<matplotlib.collections.PathCollection at 0x7f742f02d990>"
            ]
          },
          "metadata": {},
          "execution_count": 20
        },
        {
          "output_type": "display_data",
          "data": {
            "text/plain": [
              "<Figure size 432x288 with 1 Axes>"
            ],
            "image/png": "[encoded data removed]"
          },
          "metadata": {
            "needs_background": "light"
          }
        }
      ]
    },
    {
      "cell_type": "markdown",
      "source": [
        "### Two features"
      ],
      "metadata": {
        "id": "em3sFnFV0VBL"
      }
    },
    {
      "cell_type": "code",
      "source": [
        "X,y = make_classification(class_sep=1.5,n_samples=100, n_features=2,n_informative=2,n_redundant=0, n_classes=2, n_clusters_per_class=1, random_state=222)\n",
        "X = X+3"
      ],
      "metadata": {
        "id": "rL073DWV0erd"
      },
      "execution_count": 21,
      "outputs": []
    },
    {
      "cell_type": "code",
      "source": [
        "X.shape"
      ],
      "metadata": {
        "id": "9ANbncdF0gA5",
        "outputId": "844da36d-5764-4c00-c2be-b9138b3a2947",
        "colab": {
          "base_uri": "https://localhost:8080/"
        }
      },
      "execution_count": 22,
      "outputs": [
        {
          "output_type": "execute_result",
          "data": {
            "text/plain": [
              "(100, 2)"
            ]
          },
          "metadata": {},
          "execution_count": 22
        }
      ]
    },
    {
      "cell_type": "code",
      "source": [
        "plt.scatter(X[:,0], X[:,1],c=y,cmap='coolwarm')"
      ],
      "metadata": {
        "id": "kwRX-kBe0hv_",
        "outputId": "607fef07-6e6c-4aae-92dc-c8b9b4616761",
        "colab": {
          "base_uri": "https://localhost:8080/",
          "height": 283
        }
      },
      "execution_count": 23,
      "outputs": [
        {
          "output_type": "execute_result",
          "data": {
            "text/plain": [
              "<matplotlib.collections.PathCollection at 0x7f742ef66d90>"
            ]
          },
          "metadata": {},
          "execution_count": 23
        },
        {
          "output_type": "display_data",
          "data": {
            "text/plain": [
              "<Figure size 432x288 with 1 Axes>"
            ],
            "image/png": "[encoded data removed]"
          },
          "metadata": {
            "needs_background": "light"
          }
        }
      ]
    },
    {
      "cell_type": "code",
      "source": [
        "lr = LogisticRegression()\n",
        "lr.fit(X, y)"
      ],
      "metadata": {
        "id": "uRC6SZ_507bu",
        "outputId": "7662fa3a-e5ce-460e-b1ba-066371b183f0",
        "colab": {
          "base_uri": "https://localhost:8080/"
        }
      },
      "execution_count": 24,
      "outputs": [
        {
          "output_type": "execute_result",
          "data": {
            "text/plain": [
              "LogisticRegression()"
            ]
          },
          "metadata": {},
          "execution_count": 24
        }
      ]
    },
    {
      "cell_type": "code",
      "source": [
        "for i in np.linspace(-1, 7, 20):\n",
        "  for j in np.linspace(-1, 7, 20):\n",
        "    pred = lr.predict(np.array([[i, j]]))\n",
        "    color = 'blue' if pred==0 else 'red'\n",
        "    plt.scatter(i, j, c=color)"
      ],
      "metadata": {
        "id": "6l4hIkhx1BRY",
        "outputId": "ccdfffb1-8116-4e48-bd2a-cec010bbcf83",
        "colab": {
          "base_uri": "https://localhost:8080/",
          "height": 265
        }
      },
      "execution_count": 25,
      "outputs": [
        {
          "output_type": "display_data",
          "data": {
            "text/plain": [
              "<Figure size 432x288 with 1 Axes>"
            ],
            "image/png": "[encoded data removed]"
          },
          "metadata": {
            "needs_background": "light"
          }
        }
      ]
    },
    {
      "cell_type": "markdown",
      "source": [
        "### Metrics"
      ],
      "metadata": {
        "id": "S3vuyRVy1y4O"
      }
    },
    {
      "cell_type": "code",
      "source": [
        "X,y = make_classification(class_sep=0.5,n_samples=100, n_features=2,n_informative=2,n_redundant=0, n_classes=2, n_clusters_per_class=1, random_state=222)\n",
        "plt.scatter(X[:,0], X[:,1],c=y,cmap='coolwarm')"
      ],
      "metadata": {
        "id": "EH-EvCRE3C7O",
        "outputId": "3661e37f-1d0c-463a-f791-55f7981552a1",
        "colab": {
          "base_uri": "https://localhost:8080/",
          "height": 283
        }
      },
      "execution_count": 26,
      "outputs": [
        {
          "output_type": "execute_result",
          "data": {
            "text/plain": [
              "<matplotlib.collections.PathCollection at 0x7f742ec09310>"
            ]
          },
          "metadata": {},
          "execution_count": 26
        },
        {
          "output_type": "display_data",
          "data": {
            "text/plain": [
              "<Figure size 432x288 with 1 Axes>"
            ],
            "image/png": "[encoded data removed]"
          },
          "metadata": {
            "needs_background": "light"
          }
        }
      ]
    },
    {
      "cell_type": "code",
      "source": [
        "lr = LogisticRegression()\n",
        "lr.fit(X, y)"
      ],
      "metadata": {
        "id": "dK7TZCNs3Mat",
        "outputId": "dcdad32e-0b74-409a-b628-08702e3c2745",
        "colab": {
          "base_uri": "https://localhost:8080/"
        }
      },
      "execution_count": 27,
      "outputs": [
        {
          "output_type": "execute_result",
          "data": {
            "text/plain": [
              "LogisticRegression()"
            ]
          },
          "metadata": {},
          "execution_count": 27
        }
      ]
    },
    {
      "cell_type": "markdown",
      "source": [
        "Accuracy - $$\\frac{correct}{N}$$"
      ],
      "metadata": {
        "id": "cxF1dQcF2Z_Z"
      }
    },
    {
      "cell_type": "code",
      "source": [
        "from sklearn.metrics import accuracy_score\n",
        "\n",
        "y_pred = lr.predict(X)\n",
        "accuracy_score(y, y_pred)"
      ],
      "metadata": {
        "id": "dggkAUVa0Pcl",
        "outputId": "eefd3629-bd5f-4d79-9d0c-8f35cca261d2",
        "colab": {
          "base_uri": "https://localhost:8080/"
        }
      },
      "execution_count": 28,
      "outputs": [
        {
          "output_type": "execute_result",
          "data": {
            "text/plain": [
              "0.87"
            ]
          },
          "metadata": {},
          "execution_count": 28
        }
      ]
    },
    {
      "cell_type": "markdown",
      "source": [
        "### When accuracy isn't enough"
      ],
      "metadata": {
        "id": "k2ciULbY2ZnH"
      }
    },
    {
      "cell_type": "code",
      "source": [
        "from imblearn.datasets import make_imbalance"
      ],
      "metadata": {
        "id": "FqHOkklu3rqI"
      },
      "execution_count": 29,
      "outputs": []
    },
    {
      "cell_type": "code",
      "source": [
        "X, y = make_classification(class_sep=0.75, n_samples=100, n_features=2,n_informative=2,n_redundant=0, n_classes=2, n_clusters_per_class=1, random_state=222)\n",
        "X, y = make_imbalance(X, y, sampling_strategy={0: 50, 1: 5})"
      ],
      "metadata": {
        "id": "V_fT2XRx3tOU"
      },
      "execution_count": 30,
      "outputs": []
    },
    {
      "cell_type": "code",
      "source": [
        "plt.scatter(X[:,0], X[:,1],c=y,cmap='coolwarm')"
      ],
      "metadata": {
        "id": "Cvs9MhAK4B9d",
        "outputId": "6cb5a9ac-7a50-431a-82ab-f6ebe42bc332",
        "colab": {
          "base_uri": "https://localhost:8080/",
          "height": 286
        }
      },
      "execution_count": 31,
      "outputs": [
        {
          "output_type": "execute_result",
          "data": {
            "text/plain": [
              "<matplotlib.collections.PathCollection at 0x7f742eb95910>"
            ]
          },
          "metadata": {},
          "execution_count": 31
        },
        {
          "output_type": "display_data",
          "data": {
            "text/plain": [
              "<Figure size 432x288 with 1 Axes>"
            ],
            "image/png": "[encoded data removed]"
          },
          "metadata": {
            "needs_background": "light"
          }
        }
      ]
    },
    {
      "cell_type": "code",
      "source": [
        "lr = LogisticRegression()\n",
        "lr.fit(X, y)\n",
        "y_pred = lr.predict(X)\n",
        "accuracy_score(y, y_pred)"
      ],
      "metadata": {
        "id": "a02XikYv4DRk",
        "outputId": "488385f6-3c6b-4e5f-9481-49aa65f19ca0",
        "colab": {
          "base_uri": "https://localhost:8080/"
        }
      },
      "execution_count": 32,
      "outputs": [
        {
          "output_type": "execute_result",
          "data": {
            "text/plain": [
              "0.9636363636363636"
            ]
          },
          "metadata": {},
          "execution_count": 32
        }
      ]
    },
    {
      "cell_type": "code",
      "source": [
        "[i for i in y_pred if i==1]"
      ],
      "metadata": {
        "id": "P4jdbI--4ys0",
        "outputId": "acf0e811-52a2-4262-c404-f13514fdea2c",
        "colab": {
          "base_uri": "https://localhost:8080/"
        }
      },
      "execution_count": 33,
      "outputs": [
        {
          "output_type": "execute_result",
          "data": {
            "text/plain": [
              "[1, 1, 1]"
            ]
          },
          "metadata": {},
          "execution_count": 33
        }
      ]
    },
    {
      "cell_type": "markdown",
      "source": [
        "What is the accuracy for the positive class?"
      ],
      "metadata": {
        "id": "U2C5f4D95eNt"
      }
    },
    {
      "cell_type": "code",
      "source": [
        "[i for i in y if i==1]"
      ],
      "metadata": {
        "id": "fdcd4Ik-NP9D",
        "outputId": "9571a9e5-4b40-4052-faf2-e2dd4f250b09",
        "colab": {
          "base_uri": "https://localhost:8080/"
        }
      },
      "execution_count": 35,
      "outputs": [
        {
          "output_type": "execute_result",
          "data": {
            "text/plain": [
              "[1, 1, 1, 1, 1]"
            ]
          },
          "metadata": {},
          "execution_count": 35
        }
      ]
    },
    {
      "cell_type": "code",
      "source": [
        "[j for i, j in zip(y, y_pred) if i == 1]"
      ],
      "metadata": {
        "id": "jmuHFEczNnzl",
        "outputId": "730b4d7e-a44b-4645-fb71-0890931b062d",
        "colab": {
          "base_uri": "https://localhost:8080/"
        }
      },
      "execution_count": 37,
      "outputs": [
        {
          "output_type": "execute_result",
          "data": {
            "text/plain": [
              "[1, 1, 1, 0, 0]"
            ]
          },
          "metadata": {},
          "execution_count": 37
        }
      ]
    },
    {
      "cell_type": "markdown",
      "source": [
        "### Confusion Matrix"
      ],
      "metadata": {
        "id": "-f_jJEql5gZ6"
      }
    },
    {
      "cell_type": "markdown",
      "source": [
        "<img src=\"https://miro.medium.com/max/1400/1*fxiTNIgOyvAombPJx5KGeA.png\">"
      ],
      "metadata": {
        "id": "E8An4KC45z9U"
      }
    },
    {
      "cell_type": "code",
      "source": [
        "from sklearn.metrics import confusion_matrix, plot_confusion_matrix"
      ],
      "metadata": {
        "id": "8JS6woNy52Jb"
      },
      "execution_count": 38,
      "outputs": []
    },
    {
      "cell_type": "code",
      "source": [
        "plot_confusion_matrix(lr, X, y)"
      ],
      "metadata": {
        "id": "8yHnJcF157b8",
        "outputId": "b0063c0b-2b22-423b-8246-e93d2c22fa5f",
        "colab": {
          "base_uri": "https://localhost:8080/",
          "height": 358
        }
      },
      "execution_count": 39,
      "outputs": [
        {
          "output_type": "stream",
          "name": "stderr",
          "text": [
            "/usr/local/lib/python3.7/dist-packages/sklearn/utils/deprecation.py:87: FutureWarning: Function plot_confusion_matrix is deprecated; Function `plot_confusion_matrix` is deprecated in 1.0 and will be removed in 1.2. Use one of the class methods: ConfusionMatrixDisplay.from_predictions or ConfusionMatrixDisplay.from_estimator.\n",
            "  warnings.warn(msg, category=FutureWarning)\n"
          ]
        },
        {
          "output_type": "execute_result",
          "data": {
            "text/plain": [
              "<sklearn.metrics._plot.confusion_matrix.ConfusionMatrixDisplay at 0x7f742ebdf4d0>"
            ]
          },
          "metadata": {},
          "execution_count": 39
        },
        {
          "output_type": "display_data",
          "data": {
            "text/plain": [
              "<Figure size 432x288 with 2 Axes>"
            ],
            "image/png": "[encoded data removed]"
          },
          "metadata": {
            "needs_background": "light"
          }
        }
      ]
    },
    {
      "cell_type": "markdown",
      "source": [
        "### Precision and Recall"
      ],
      "metadata": {
        "id": "QCT_WL2F6WGT"
      }
    },
    {
      "cell_type": "markdown",
      "source": [
        "<img src=\"https://upload.wikimedia.org/wikipedia/commons/thumb/2/26/Precisionrecall.svg/640px-Precisionrecall.svg.png\">"
      ],
      "metadata": {
        "id": "W1_8eBqE6dxL"
      }
    },
    {
      "cell_type": "code",
      "source": [
        "from sklearn.metrics import precision_score, recall_score"
      ],
      "metadata": {
        "id": "vGnXeJmT6Uzp"
      },
      "execution_count": 40,
      "outputs": []
    },
    {
      "cell_type": "code",
      "source": [
        "precision_score(y, y_pred), recall_score(y, y_pred)"
      ],
      "metadata": {
        "id": "8dUNd2sY6QXb",
        "outputId": "a6480969-b19c-42f1-8d65-dd712b9491e0",
        "colab": {
          "base_uri": "https://localhost:8080/"
        }
      },
      "execution_count": 41,
      "outputs": [
        {
          "output_type": "execute_result",
          "data": {
            "text/plain": [
              "(1.0, 0.6)"
            ]
          },
          "metadata": {},
          "execution_count": 41
        }
      ]
    },
    {
      "cell_type": "markdown",
      "source": [
        "### Dealing with Class Imbalance"
      ],
      "metadata": {
        "id": "0SNckvqE7ptZ"
      }
    },
    {
      "cell_type": "markdown",
      "source": [
        "Oversampling and Undersampling"
      ],
      "metadata": {
        "id": "UojY6FJQ7wwj"
      }
    },
    {
      "cell_type": "markdown",
      "source": [
        "<img src=\"https://cdn-images-1.medium.com/fit/t/1600/480/1*7xf9e1EaoK5n05izIFBouA.png\"> "
      ],
      "metadata": {
        "id": "C6ZZOycY7zFx"
      }
    },
    {
      "cell_type": "markdown",
      "source": [
        ""
      ],
      "metadata": {
        "id": "dtuEd1iY8k6b"
      }
    },
    {
      "cell_type": "markdown",
      "source": [
        "### Homework"
      ],
      "metadata": {
        "id": "7_QmS8vN7cCF"
      }
    },
    {
      "cell_type": "markdown",
      "source": [
        "Train a binary classifier to predict breast cancer using this dataset https://scikit-learn.org/stable/datasets/toy_dataset.html#breast-cancer-dataset. <br>\n",
        "<br>\n",
        "Deal with class imbalance and think about what metric is most important for predictions."
      ],
      "metadata": {
        "id": "SdnTWrp27gld"
      }
    },
    {
      "cell_type": "code",
      "source": [
        "from sklearn.datasets import load_breast_cancer\n",
        "data = load_breast_cancer()\n",
        "X = data['data']\n",
        "y = data['target']"
      ],
      "metadata": {
        "id": "DmFMK8oe6oFL"
      },
      "execution_count": null,
      "outputs": []
    },
    {
      "cell_type": "code",
      "source": [
        ""
      ],
      "metadata": {
        "id": "I7Y19Os-7VET"
      },
      "execution_count": null,
      "outputs": []
    }
  ]
}